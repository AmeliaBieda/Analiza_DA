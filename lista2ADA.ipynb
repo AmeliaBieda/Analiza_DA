{
 "cells": [
  {
   "cell_type": "code",
   "id": "initial_id",
   "metadata": {
    "collapsed": true,
    "ExecuteTime": {
     "end_time": "2025-05-19T16:23:50.416482Z",
     "start_time": "2025-05-19T16:23:50.409136Z"
    }
   },
   "source": [
    "import numpy as np\n",
    "import pandas as pd\n",
    "import seaborn as sns\n",
    "from scipy.stats import chi2, chi2_contingency, fisher_exact, kendalltau\n",
    "from statsmodels.stats.proportion import proportions_ztest, proportion_confint\n",
    "from scipy.spatial.distance import pdist, squareform\n",
    "import matplotlib.pyplot as plt"
   ],
   "outputs": [],
   "execution_count": 23
  },
  {
   "metadata": {},
   "cell_type": "markdown",
   "source": [
    "**Zadanie 1** Na podstawie danych wyznacz przedział ufności dla wektora prawodobieństw opisującego stopień zadowolenia ze szkolenia. Przyjmij poziom ufności 0.95. \n",
    "\n",
    "Czy wyniki się różnią w zależności od wybranej metody?"
   ],
   "id": "577aff69505d6cc7"
  },
  {
   "metadata": {
    "ExecuteTime": {
     "end_time": "2025-05-19T12:01:06.054769Z",
     "start_time": "2025-05-19T12:01:06.036834Z"
    }
   },
   "cell_type": "code",
   "outputs": [
    {
     "name": "stdout",
     "output_type": "stream",
     "text": [
      "              Kategoria  Liczba pracowników Prawdopodobieństwo  \\\n",
      "0  Bardzo niezadowoleni                  14             0.0700   \n",
      "1         Niezadowoleni                  17             0.0850   \n",
      "2           Brak zdania                  40             0.2000   \n",
      "3            Zadowoleni                 100             0.5000   \n",
      "4     Bardzo zadowoleni                  29             0.1450   \n",
      "\n",
      "                 Beta              Wilson            Normalny  \n",
      "0   [0.0317, 0.12989]  [0.03605, 0.13157]  [0.02353, 0.11647]  \n",
      "1  [0.04208, 0.14866]  [0.04661, 0.15004]    [0.0342, 0.1358]  \n",
      "2  [0.13257, 0.28218]  [0.13731, 0.28195]  [0.12714, 0.27286]  \n",
      "3  [0.40735, 0.59265]    [0.4104, 0.5896]  [0.40893, 0.59107]  \n",
      "4   [0.0875, 0.22005]  [0.09228, 0.22051]  [0.08087, 0.20913]  \n"
     ]
    }
   ],
   "execution_count": 15,
   "source": [
    "success = [14, 17, 40, 100, 29]\n",
    "n = np.sum(success)\n",
    "a = 0.05 / len(success)\n",
    "wyniki = []\n",
    "kategorie = [\n",
    "    \"Bardzo niezadowoleni\",\n",
    "    \"Niezadowoleni\",\n",
    "    \"Brak zdania\",\n",
    "    \"Zadowoleni\",\n",
    "    \"Bardzo zadowoleni\",\n",
    "]\n",
    "\n",
    "for i in range(len(success)):\n",
    "    p = success[i] / n\n",
    "    beta = proportion_confint(success[i], n, alpha=a, method=\"beta\")\n",
    "    wilson = proportion_confint(success[i], n, alpha=a, method=\"wilson\")\n",
    "    normal = proportion_confint(success[i], n, alpha=a, method=\"normal\")\n",
    "\n",
    "    wyniki.append(\n",
    "        {\n",
    "            \"Kategoria\": kategorie[i],\n",
    "            \"Liczba pracowników\": success[i],\n",
    "            \"Prawdopodobieństwo\": f\"{p:.4f}\",\n",
    "            \"Beta\": np.round(beta, 5),\n",
    "            \"Wilson\": np.round(wilson, 5),\n",
    "            \"Normal\": np.round(normal, 5),\n",
    "        }\n",
    "    )\n",
    "\n",
    "df = pd.DataFrame(wyniki)\n",
    "print(df)"
   ],
   "id": "c4ecde0d2cf32308"
  },
  {
   "metadata": {},
   "cell_type": "markdown",
   "source": [
    "**Zadanie 2.**\n",
    "\n",
    "Napisz funkcję, która wyznacza wartość poziomu krytycznego w następujących testach:\n",
    "\n",
    "• chi-kwadrat Pearsona\n",
    "\n",
    "• chi-kwadrat największej wiarogodności \n",
    "\n",
    "służących do weryfikacji hipotezy H0 : p = p0 przy hipotezie alternatywnej H1 : p ̸= p0 na podstawie obserwacji x wektora losowego X z rozkładu wielomianowego z parametrami n i p.\n"
   ],
   "id": "22599ea2b469fd10"
  },
  {
   "metadata": {
    "ExecuteTime": {
     "end_time": "2025-05-19T16:23:56.670555Z",
     "start_time": "2025-05-19T16:23:56.658523Z"
    }
   },
   "cell_type": "code",
   "source": [
    "def chichwadrat(vals: list[int], ps: list[float], n: int) -> float:\n",
    "    stat = 0\n",
    "    for i in range(len(vals)):\n",
    "        stat += ((vals[i] - n * ps[i]) ** 2) / (n * ps[i])\n",
    "    return 1 - chi2.cdf(stat, len(vals) - 1)\n",
    "\n",
    "\n",
    "def IW(vals: list[int], ps: list[float], n: int) -> float:\n",
    "    stat = 0\n",
    "    for i in range(len(vals)):\n",
    "        stat += vals[i] * np.log(vals[i] / (n * ps[i]))\n",
    "    return 1 - chi2.cdf(2 * stat, len(ps) - 1)\n",
    "\n",
    "\n",
    "prob = [0.2, 0.2, 0.2, 0.2, 0.2]\n",
    "suc = [20, 30, 40, 50, 60]\n",
    "n = np.sum(suc)\n",
    "print(chichwadrat(suc, prob, n))\n",
    "print(IW(suc, prob, n))"
   ],
   "id": "ac3f666127373e5d",
   "outputs": [
    {
     "name": "stdout",
     "output_type": "stream",
     "text": [
      "5.0309817823057656e-05\n",
      "3.189008141235572e-05\n"
     ]
    }
   ],
   "execution_count": 24
  },
  {
   "metadata": {},
   "cell_type": "markdown",
   "source": [
    "**Zadanie 3.** \n",
    "\n",
    "Na podstawie danych z ankiety z poprzedniej listy zweryfikuj hipotezę, że w grupie pracowników zatrudnionwych w Dziale Produktowym rozkład odpowiedzi na pytanie \"Jak bardzo zgadzasz się ze stwierdzeniem, że firma zapewnia odpowiednie wsparcie i materiały umożliwiające skuteczne wykorzystanie w praktyce wiedzy zdobytej w trakcie szkoleń?\" jest równomierny, tzn. jest jednakowe prawdopodobienstwo, że pracownik zatrudniony w Dziale Produkcjnym udzielił odpowiedzi \"zdecydowanie się nie zgadzam\", \"nie zgadzam się\", \"nie mam zdania\", \"zgadzam się\", \"zdecydowanie się zgadzam\" na pytanie PYT_1. Przyjmij poziom istotności 0.05. Skorzystaj z funkcji napisanej w zadaniu 2."
   ],
   "id": "efcc04c7116ce843"
  },
  {
   "metadata": {
    "ExecuteTime": {
     "end_time": "2025-05-19T16:24:01.020799Z",
     "start_time": "2025-05-19T16:24:01.009265Z"
    }
   },
   "cell_type": "code",
   "source": [
    "sciezka = open(r\"ankieta.csv\")\n",
    "ankieta = pd.read_csv(sciezka, sep=\";\", encoding=\"Latin2\")"
   ],
   "id": "69681bc0be4af181",
   "outputs": [],
   "execution_count": 25
  },
  {
   "metadata": {
    "ExecuteTime": {
     "end_time": "2025-05-19T16:26:32.822125Z",
     "start_time": "2025-05-19T16:26:32.810880Z"
    }
   },
   "cell_type": "code",
   "source": [
    "dane = ankieta[ankieta[\"DZIAŁ\"] == \"PD\"][\"PYT_1\"].value_counts()\n",
    "vals = dane.values\n",
    "ps = [1 / 5] * 5\n",
    "\n",
    "print('Dane do zbadania:\\n', dane,\n",
    "      '\\nP-wartość z testu Pearsona:', chichwadrat(vals, ps, np.sum(vals)),\n",
    "      '\\nP-wartość z testu IW:', IW(vals, ps, np.sum(vals)))"
   ],
   "id": "3758bf4ae5dbdcc3",
   "outputs": [
    {
     "name": "stdout",
     "output_type": "stream",
     "text": [
      "Dane do hipotezy:\n",
      " PYT_1\n",
      " 1    51\n",
      " 0    17\n",
      " 2    11\n",
      "-1    10\n",
      "-2     9\n",
      "Name: count, dtype: int64 \n",
      "P-wartość z testu Pearsona: 2.757793993168889e-13 \n",
      "P-wartość z testu IW: 1.0701994845874196e-10\n"
     ]
    }
   ],
   "execution_count": 28
  },
  {
   "metadata": {},
   "cell_type": "markdown",
   "source": [
    "**Zadanie 4.**\n",
    "\n",
    "Zapoznaj się z funkcjami służącymi do wykonania testu Fishera oraz testu Freemana-Haltona."
   ],
   "id": "f55259475cf54fe8"
  },
  {
   "metadata": {},
   "cell_type": "markdown",
   "source": [
    "*R w Pythonie* \n",
    "\n",
    "Importujemy pakiet stats z R, który zawiera funkcję fisher.test()"
   ],
   "id": "11e0abb4e60ac9c8"
  },
  {
   "metadata": {},
   "cell_type": "code",
   "outputs": [],
   "execution_count": null,
   "source": [
    "import os\n",
    "\n",
    "os.environ[\"R_HOME\"] = r\"C:\\Program Files\\R\\R-4.5.0\"\n",
    "os.environ[\"PATH\"] += r\"C:\\Program Files\\R\\R-4.5.0\\bin\\x64\"\n",
    "\n",
    "import rpy2.robjects as ro\n",
    "\n",
    "print(ro.r(\"R.version.string\"))\n",
    "\n",
    "from rpy2.robjects.packages import importr\n",
    "from rpy2.robjects import numpy2ri, pandas2ri"
   ],
   "id": "feff307b12e8d096"
  },
  {
   "metadata": {
    "ExecuteTime": {
     "end_time": "2025-05-19T16:54:17.143402Z",
     "start_time": "2025-05-19T16:54:15.914507Z"
    }
   },
   "cell_type": "code",
   "source": [
    "# Aktywacja konwersji pandas/numpy → R\n",
    "pandas2ri.activate()\n",
    "numpy2ri.activate()\n",
    "\n",
    "stats = importr(\"stats\")\n",
    "m = np.array([[4, 4], [4, 5], [10, 6]])\n",
    "print(stats.fisher_test(m))"
   ],
   "id": "394fd5f4b59317d4",
   "outputs": [
    {
     "name": "stdout",
     "output_type": "stream",
     "text": [
      "\n",
      "\tFisher's Exact Test for Count Data\n",
      "\n",
      "data:  structure(c(4L, 4L, 10L, 4L, 5L, 6L), dim = 3:2)\n",
      "p-value = 0.6644\n",
      "alternative hypothesis: two.sided\n",
      "\n",
      "\n"
     ]
    }
   ],
   "execution_count": 32
  },
  {
   "metadata": {},
   "cell_type": "markdown",
   "source": [
    "**Zadanie 5.**\n",
    "\n",
    "Korzystajac z testu Fishera, na poziomie istotności 0.05, zweryfikuj hipotezę, że zmienna PŁeĆ i zmienna CZY_KIER są niezależne. Czy na poziomie istotności 0.05 możemy wnioskować, że prawdopodobieństwo tego, że na stanowisku kierowniczym pracuje kobieta jest równe prawdopodobienstwu tego, że na stanowisku kierowniczym pracuje mężczyzna? Uzasadnij odpowiedź"
   ],
   "id": "5b7cf3121a862b0d"
  },
  {
   "metadata": {
    "ExecuteTime": {
     "end_time": "2025-05-19T17:06:22.860854Z",
     "start_time": "2025-05-19T17:06:22.840091Z"
    }
   },
   "cell_type": "code",
   "source": [
    "tabela = pd.crosstab(ankieta[\"PŁEĆ\"], ankieta[\"CZY_KIER\"], margins=False)\n",
    "r_tabela = pandas2ri.py2rpy(tabela)\n",
    "\n",
    "wynik = stats.fisher_test(r_tabela).rx2('p.value')[0]\n",
    "\n",
    "print(tabela)\n",
    "print(f'\\np-wartość = {wynik:.4f}')"
   ],
   "id": "aff1c89b8e6853ca",
   "outputs": [
    {
     "name": "stdout",
     "output_type": "stream",
     "text": [
      "CZY_KIER  Nie  Tak\n",
      "PŁEĆ              \n",
      "K          63    8\n",
      "M         110   19\n",
      "p-wartość = 0.6659\n"
     ]
    }
   ],
   "execution_count": 39
  },
  {
   "metadata": {},
   "cell_type": "markdown",
   "source": [
    "**Zadanie 6.**\n",
    "Korzystajac z testu Freemana-Haltona na poziomie istotnosci 0.05 zweryfikuj\n",
    "poniższe hipotezy. Wykonaj podpunkty c), d), e) oraz d) zast˛epuj ˛ac zmienn ˛a PYT_2 przez zmienn ˛a\n",
    "CZY_ZADOW zdefiniowan ˛a w zadaniu 1. w cz˛esci I z poprzedniej listy. Porównaj wyniki.\n",
    "\n",
    "a) zajmowanie stanowiska kierowniczego nie zalezy od wieku (CZY_KIER oraz WIEK_KAT)"
   ],
   "id": "e56a308b87e7aced"
  },
  {
   "metadata": {
    "ExecuteTime": {
     "end_time": "2025-05-19T17:25:53.532911Z",
     "start_time": "2025-05-19T17:25:53.522246Z"
    }
   },
   "cell_type": "code",
   "source": [
    "bins = [0, 35, 45, 55, float(\"inf\")]\n",
    "labels = [\"<35\", \"36-45\", \"46-55\", \">55\"]\n",
    "ankieta[\"WIEK_KAT\"] = pd.cut(ankieta[\"WIEK\"], bins=bins, labels=labels)"
   ],
   "id": "3f87897296f3919e",
   "outputs": [],
   "execution_count": 43
  },
  {
   "metadata": {
    "ExecuteTime": {
     "end_time": "2025-05-19T17:25:57.001462Z",
     "start_time": "2025-05-19T17:25:56.969258Z"
    }
   },
   "cell_type": "code",
   "source": [
    "tabA = pd.crosstab(ankieta[\"CZY_KIER\"], ankieta[\"WIEK_KAT\"], margins=False)\n",
    "wynikA = stats.fisher_test(pandas2ri.py2rpy(tabA)).rx2('p.value')[0]\n",
    "print(tabA)\n",
    "print(f'\\np-wartość = {wynikA:.4f}')"
   ],
   "id": "e57eb16f5f48c5b3",
   "outputs": [
    {
     "name": "stdout",
     "output_type": "stream",
     "text": [
      "WIEK_KAT  <35  36-45  46-55  >55\n",
      "CZY_KIER                        \n",
      "Nie        23     91     39   20\n",
      "Tak         3     13      6    5\n",
      "\n",
      "p-wartość = 0.7823\n"
     ]
    }
   ],
   "execution_count": 44
  },
  {
   "metadata": {},
   "cell_type": "markdown",
   "source": "b) zajmowanie stanowiska kierowniczego nie zalezy od sta ˙ zu pracy ( ˙ CZY_KIER oraz STAZ˙ ),",
   "id": "ad5bb198df9080d3"
  },
  {
   "metadata": {
    "ExecuteTime": {
     "end_time": "2025-05-19T17:27:15.559766Z",
     "start_time": "2025-05-19T17:27:15.539177Z"
    }
   },
   "cell_type": "code",
   "source": [
    "tabB = pd.crosstab(ankieta[\"CZY_KIER\"], ankieta[\"STAŻ\"], margins=False)\n",
    "wynikB = stats.fisher_test(pandas2ri.py2rpy(tabB)).rx2('p.value')[0]\n",
    "print(tabB)\n",
    "print(f'\\np-wartość = {wynikB:.4f}')"
   ],
   "id": "b6a7fc614e3a72ab",
   "outputs": [
    {
     "name": "stdout",
     "output_type": "stream",
     "text": [
      "STAŻ       1    2   3\n",
      "CZY_KIER             \n",
      "Nie       40  123  10\n",
      "Tak        1   17   9\n",
      "\n",
      "p-wartość = 0.0001\n"
     ]
    }
   ],
   "execution_count": 45
  },
  {
   "metadata": {},
   "cell_type": "markdown",
   "source": [
    "c) stopien zadowolenia ze szkole ´ n w kontek ´ scie dopasowania do indywidualnych potrzeb ´\n",
    "w pierwszym badanym okresie nie zalezy od zajmowanego stanowiska ( ˙ PYT_2 oraz\n",
    "CZY_KIER),"
   ],
   "id": "8ca95731640cacbc"
  },
  {
   "metadata": {
    "ExecuteTime": {
     "end_time": "2025-05-19T17:28:58.293323Z",
     "start_time": "2025-05-19T17:28:58.273748Z"
    }
   },
   "cell_type": "code",
   "source": [
    "tabc1 = pd.crosstab(ankieta[\"PYT_2\"], ankieta[\"CZY_KIER\"], margins=False)\n",
    "wynikc1 = stats.fisher_test(pandas2ri.py2rpy(tabc1)).rx2('p.value')[0]\n",
    "print(tabc1)\n",
    "print(f'\\np-wartość = {wynikc1:.4f}')"
   ],
   "id": "ba237245ec876ae7",
   "outputs": [
    {
     "name": "stdout",
     "output_type": "stream",
     "text": [
      "CZY_KIER  Nie  Tak\n",
      "PYT_2             \n",
      "-2         64   10\n",
      "-1         18    2\n",
      " 1          0    2\n",
      " 2         91   13\n",
      "\n",
      "p-wartość = 0.0443\n"
     ]
    }
   ],
   "execution_count": 47
  },
  {
   "metadata": {
    "ExecuteTime": {
     "end_time": "2025-05-19T17:29:00.403858Z",
     "start_time": "2025-05-19T17:29:00.373817Z"
    }
   },
   "cell_type": "code",
   "source": [
    "ankieta[\"CZY_ZADOW\"] = pd.cut(\n",
    "    ankieta[\"PYT_2\"],\n",
    "    bins=[-2.5, 0, 2.5],\n",
    "    labels=[\"Niezadowolony\", \"Zadowolony\"],\n",
    ")\n",
    "tabc2 = pd.crosstab(ankieta[\"CZY_ZADOW\"], ankieta[\"CZY_KIER\"], margins=False)\n",
    "wynikc2 = stats.fisher_test(pandas2ri.py2rpy(tabc2)).rx2('p.value')[0]\n",
    "print(tabc2)\n",
    "print(f'\\np-wartość = {wynikc2:.4f}')"
   ],
   "id": "4ef6e66d01166cda",
   "outputs": [
    {
     "name": "stdout",
     "output_type": "stream",
     "text": [
      "CZY_KIER       Nie  Tak\n",
      "CZY_ZADOW              \n",
      "Niezadowolony   82   12\n",
      "Zadowolony      91   15\n",
      "\n",
      "p-wartość = 0.8377\n"
     ]
    }
   ],
   "execution_count": 48
  },
  {
   "metadata": {},
   "cell_type": "markdown",
   "source": [
    "d) stopien zadowolenia ze szkole ´ n w kontek ´ scie dopasowania do indywidualnych potrzeb w ´\n",
    "pierwszym badanym okresie nie zalezy od sta ˙ zu ( ˙ PYT_2 oraz STAZ˙ ),"
   ],
   "id": "bc67bf47508ffbb0"
  },
  {
   "metadata": {
    "ExecuteTime": {
     "end_time": "2025-05-19T17:30:26.701038Z",
     "start_time": "2025-05-19T17:30:26.639077Z"
    }
   },
   "cell_type": "code",
   "source": [
    "tabd1 = pd.crosstab(ankieta[\"PYT_2\"], ankieta[\"STAŻ\"], margins=False)\n",
    "wynikd1 = stats.fisher_test(pandas2ri.py2rpy(tabd1)).rx2('p.value')[0]\n",
    "print(tabd1)\n",
    "print(f'\\np-wartość = {wynikd1:.4f}\\n')\n",
    "\n",
    "tabd2 = pd.crosstab(ankieta[\"CZY_ZADOW\"], ankieta[\"STAŻ\"], margins=False)\n",
    "wynikd2 = stats.fisher_test(pandas2ri.py2rpy(tabd2)).rx2('p.value')[0]\n",
    "print(tabd2)\n",
    "print(f'\\np-wartość = {wynikd2:.4f}')"
   ],
   "id": "db5b42207dc249e8",
   "outputs": [
    {
     "name": "stdout",
     "output_type": "stream",
     "text": [
      "STAŻ    1   2  3\n",
      "PYT_2           \n",
      "-2     20  45  9\n",
      "-1      3  17  0\n",
      " 1      0   0  2\n",
      " 2     18  78  8\n",
      "\n",
      "p-wartość = 0.0107\n",
      "STAŻ            1   2   3\n",
      "CZY_ZADOW                \n",
      "Niezadowolony  23  62   9\n",
      "Zadowolony     18  78  10\n",
      "\n",
      "p-wartość = 0.4097\n"
     ]
    }
   ],
   "execution_count": 49
  },
  {
   "metadata": {},
   "cell_type": "markdown",
   "source": [
    "e) stopien zadowolenia ze szkole ´ n w kontek ´ scie dopasowania do indywidualnych potrzeb w ´\n",
    "pierwszym badanym okresie nie zalezy od płci ( ˙ PYT_2 oraz PŁEC´ ),"
   ],
   "id": "c99d5d4efbc808f7"
  },
  {
   "metadata": {
    "ExecuteTime": {
     "end_time": "2025-05-19T17:32:12.303872Z",
     "start_time": "2025-05-19T17:32:12.233261Z"
    }
   },
   "cell_type": "code",
   "source": [
    "tabe1 = pd.crosstab(ankieta[\"PYT_2\"], ankieta[\"PŁEĆ\"], margins=False)\n",
    "wynike1 = stats.fisher_test(pandas2ri.py2rpy(tabe1)).rx2('p.value')[0]\n",
    "print(tabe1)\n",
    "print(f'\\np-wartość = {wynike1:.4f}\\n')\n",
    "\n",
    "tabe2 = pd.crosstab(ankieta[\"CZY_ZADOW\"], ankieta[\"PŁEĆ\"], margins=False)\n",
    "wynike2 = stats.fisher_test(pandas2ri.py2rpy(tabe2)).rx2('p.value')[0]\n",
    "print(tabe2)\n",
    "print(f'\\np-wartość = {wynike2:.4f}')"
   ],
   "id": "abb1a12cce3332ad",
   "outputs": [
    {
     "name": "stdout",
     "output_type": "stream",
     "text": [
      "PŁEĆ    K   M\n",
      "PYT_2        \n",
      "-2     25  49\n",
      "-1     10  10\n",
      " 1      1   1\n",
      " 2     35  69\n",
      "\n",
      "p-wartość = 0.4758\n",
      "\n",
      "PŁEĆ            K   M\n",
      "CZY_ZADOW            \n",
      "Niezadowolony  35  59\n",
      "Zadowolony     36  70\n",
      "\n",
      "p-wartość = 0.6589\n"
     ]
    }
   ],
   "execution_count": 50
  },
  {
   "metadata": {},
   "cell_type": "markdown",
   "source": [
    "f) stopien zadowolenia ze szkole ´ n w kontek ´ scie dopasowania do indywidualnych potrzeb w ´\n",
    "pierwszym badanym okresie nie zalezy od wieku ( ˙ PYT_2 oraz WIEK_KAT)."
   ],
   "id": "d4a21d2a5ad55e9b"
  },
  {
   "metadata": {
    "ExecuteTime": {
     "end_time": "2025-05-19T17:34:28.463204Z",
     "start_time": "2025-05-19T17:34:27.719043Z"
    }
   },
   "cell_type": "code",
   "source": [
    "tabf1 = pd.crosstab(ankieta[\"PYT_2\"], ankieta[\"WIEK_KAT\"], margins=False)\n",
    "wynikf1 = stats.fisher_test(pandas2ri.py2rpy(tabf1), workspace=1e6).rx2('p.value')[0]\n",
    "print(tabf1)\n",
    "print(f'\\np-wartość = {wynikf1:.4f}\\n')\n",
    "\n",
    "tabf2 = pd.crosstab(ankieta[\"CZY_ZADOW\"], ankieta[\"WIEK_KAT\"], margins=False)\n",
    "wynikf2 = stats.fisher_test(pandas2ri.py2rpy(tabf2), workspace=1e6).rx2('p.value')[0]\n",
    "print(tabf2)\n",
    "print(f'\\np-wartość = {wynikf2:.4f}')"
   ],
   "id": "c87ebb83d635df67",
   "outputs": [
    {
     "name": "stdout",
     "output_type": "stream",
     "text": [
      "WIEK_KAT  <35  36-45  46-55  >55\n",
      "PYT_2                           \n",
      "-2          9     42     12   11\n",
      "-1          1      9      6    4\n",
      " 1          0      1      0    1\n",
      " 2         16     52     27    9\n",
      "\n",
      "p-wartość = 0.3194\n",
      "\n",
      "WIEK_KAT       <35  36-45  46-55  >55\n",
      "CZY_ZADOW                            \n",
      "Niezadowolony   10     51     18   15\n",
      "Zadowolony      16     53     27   10\n",
      "\n",
      "p-wartość = 0.3275\n"
     ]
    }
   ],
   "execution_count": 53
  },
  {
   "metadata": {},
   "cell_type": "markdown",
   "source": [
    "# Część III\n",
    "**Zadanie 8**\n",
    "Korzystaj ˛ac z funkcji poznanej w zadaniu 7. zweryfikuj hipotez˛e, ze stopie ˙ n´\n",
    "zadowolenia ze szkolen w kontek ´ scie dopasowania do indywidualnych potrzeb w pierwszym ´\n",
    "badanym okresie nie zalezy od zajmowanego stanowiska. Przyjmij poziom istotno ˙ sci 0 ´ .01.\n",
    "Wynik testu porównaj z wynikiem uzyskanym w zadaniu 6. Zaprezentuj reszty wyznaczane w\n",
    "tescie na wykresie asocjacyjnym i dokonaj jego interpretacji."
   ],
   "id": "c6622d0a32edd640"
  },
  {
   "metadata": {
    "ExecuteTime": {
     "end_time": "2025-05-19T13:52:08.149671Z",
     "start_time": "2025-05-19T13:52:07.911148Z"
    }
   },
   "cell_type": "code",
   "source": [
    "contingency = pd.crosstab(ankieta[\"CZY_KIER\"], ankieta[\"PYT_2\"])\n",
    "\n",
    "chi2_stat, p_value, dof, expected = chi2_contingency(contingency)\n",
    "\n",
    "print(\"Wynik testu chi-kwadrat niezależności:\")\n",
    "print(f\"Statystyka chi² = {chi2_stat:.4f}\")\n",
    "print(f\"p-value = {p_value:.4f}\")\n",
    "print(f\"Stopnie swobody = {dof}\")\n",
    "\n",
    "alpha = 0.01\n",
    "if p_value < alpha:\n",
    "    print(\"Odrzucamy H0 – ocena szkoleń zależy od stanowiska.\")\n",
    "else:\n",
    "    print(\"Brak podstaw do odrzucenia H0 – ocena szkoleń NIE zależy od stanowiska.\")\n",
    "\n",
    "observed = contingency.values\n",
    "residuals = (observed - expected) / np.sqrt(expected)\n",
    "\n",
    "plt.figure(figsize=(8, 5))\n",
    "sns.heatmap(\n",
    "    residuals,\n",
    "    annot=True,\n",
    "    fmt=\".2f\",\n",
    "    cmap=\"coolwarm\",\n",
    "    xticklabels=contingency.columns,\n",
    "    yticklabels=contingency.index,\n",
    ")\n",
    "plt.title(\"Wykres asocjacyjny\")\n",
    "plt.xlabel(\"Ocena szkolenia \")\n",
    "plt.ylabel(\"Stanowisko kierownicze\")\n",
    "plt.tight_layout()\n",
    "plt.show()"
   ],
   "id": "d8e174dd5d93023e",
   "outputs": [
    {
     "name": "stdout",
     "output_type": "stream",
     "text": [
      "Wynik testu chi-kwadrat niezależności:\n",
      "Statystyka chi² = 13.1137\n",
      "p-value = 0.0044\n",
      "Stopnie swobody = 3\n",
      "Odrzucamy H0 – ocena szkoleń zależy od stanowiska.\n"
     ]
    },
    {
     "data": {
      "text/plain": [
       "<Figure size 800x500 with 2 Axes>"
      ],
      "image/png": "[encoded data removed]"
     },
     "metadata": {},
     "output_type": "display_data"
    }
   ],
   "execution_count": 41
  },
  {
   "metadata": {},
   "cell_type": "markdown",
   "source": [
    "**Zadanie 9.**\n",
    "Zapoznaj si˛e z funkcj ˛a słuzac ˛a do generowania realizacji wektorów losowych ˙\n",
    "z rozkładu wielomianowego, a nast˛epnie korzystaj ˛ac z niej przeprowad´z symulacje w celu\n",
    "oszacowania mocy testu Fishera oraz mocy testu chi-kwadrat Pearsona, generuj ˛ac dane z tabeli\n",
    "2 × 2, w której p11 = 1/40, p12 = 3/40, p21 = 19/40, p22 = 17/40. Symulacje wykonaj dla\n",
    "n = 50, n = 100 oraz n = 1000. Sformułuj wnioski."
   ],
   "id": "95fc284645e38ae4"
  },
  {
   "metadata": {
    "ExecuteTime": {
     "end_time": "2025-05-19T13:53:26.981164Z",
     "start_time": "2025-05-19T13:52:59.328195Z"
    }
   },
   "cell_type": "code",
   "source": [
    "def simulate_power(p, n, num_sim=10000, alpha=0.05):\n",
    "    rejections_chi2 = 0\n",
    "    rejections_fisher = 0\n",
    "\n",
    "    for _ in range(num_sim):\n",
    "        sample = np.random.multinomial(n, p)\n",
    "        table = np.array([[sample[0], sample[1]], [sample[2], sample[3]]])\n",
    "\n",
    "        try:\n",
    "            chi2_stat, p_chi2, _, expected = chi2_contingency(table, correction=False)\n",
    "            if np.all(expected > 0) and p_chi2 < alpha:\n",
    "                rejections_chi2 += 1\n",
    "        except ValueError:\n",
    "            pass\n",
    "\n",
    "        try:\n",
    "            _, p_fisher = fisher_exact(table)\n",
    "            if p_fisher < alpha:\n",
    "                rejections_fisher += 1\n",
    "        except ValueError:\n",
    "            pass\n",
    "\n",
    "    power_chi2 = rejections_chi2 / num_sim\n",
    "    power_fisher = rejections_fisher / num_sim\n",
    "\n",
    "    return power_chi2, power_fisher\n",
    "\n",
    "\n",
    "p = [1 / 40, 3 / 40, 19 / 40, 17 / 40]\n",
    "sample_sizes = [50, 100, 1000]\n",
    "\n",
    "for n in sample_sizes:\n",
    "    power_chi2, power_fisher = simulate_power(p, n)\n",
    "    print(f\"n = {n}:\")\n",
    "    print(f\"  Moc testu chi-kwadrat: {power_chi2:.4f}\")\n",
    "    print(f\"  Moc testu Fishera:     {power_fisher:.4f}\")\n",
    "    print()"
   ],
   "id": "64185ca04ea041de",
   "outputs": [
    {
     "name": "stdout",
     "output_type": "stream",
     "text": [
      "n = 50:\n",
      "  Moc testu chi-kwadrat: 0.1876\n",
      "  Moc testu Fishera:     0.1145\n",
      "\n",
      "n = 100:\n",
      "  Moc testu chi-kwadrat: 0.3916\n",
      "  Moc testu Fishera:     0.3131\n",
      "\n",
      "n = 1000:\n",
      "  Moc testu chi-kwadrat: 0.9996\n",
      "  Moc testu Fishera:     0.9996\n",
      "\n"
     ]
    }
   ],
   "execution_count": 42
  },
  {
   "metadata": {},
   "cell_type": "markdown",
   "source": [
    "**Zadanie 10.**\n",
    "Napisz funkcj˛e, która dla danych z tablicy dwudzielczej oblicza wartos´c poziomu ´\n",
    "krytycznego w tescie niezale ´ znosci opartym na ilorazie wiarogodnosci. Korzystaj ˛ac z napisanej ˙\n",
    "funkcji, wykonaj test dla danych przeanalizowanych w zadaniu 8."
   ],
   "id": "a12f9f7e2da7cd95"
  },
  {
   "metadata": {
    "ExecuteTime": {
     "end_time": "2025-05-19T13:54:12.615711Z",
     "start_time": "2025-05-19T13:54:12.566884Z"
    }
   },
   "cell_type": "code",
   "source": [
    "def likelihood_ratio_test(table, alpha=0.01):\n",
    "\n",
    "    observed = np.array(table)\n",
    "    total = observed.sum()\n",
    "    row_sums = observed.sum(axis=1)\n",
    "    col_sums = observed.sum(axis=0)\n",
    "    expected = np.outer(row_sums, col_sums) / total\n",
    "\n",
    "    mask = observed > 0\n",
    "    G2 = 2 * np.sum(observed[mask] * np.log(observed[mask] / expected[mask]))\n",
    "\n",
    "    df = (observed.shape[0] - 1) * (observed.shape[1] - 1)\n",
    "    p_value = 1 - chi2.cdf(G2, df)\n",
    "    critical_value = chi2.ppf(1 - alpha, df)\n",
    "\n",
    "    return {\n",
    "        \"G2\": G2,\n",
    "        \"p_value\": p_value,\n",
    "        \"critical_value\": critical_value,\n",
    "        \"df\": df,\n",
    "        \"reject_H0\": G2 > critical_value,\n",
    "    }\n",
    "\n",
    "\n",
    "contingency = pd.crosstab(ankieta[\"CZY_KIER\"], ankieta[\"PYT_2\"])\n",
    "result = likelihood_ratio_test(contingency, alpha=0.01)\n",
    "print(f\"G² = {result['G2']:.4f}, stopnie swobody = {result['df']}\")\n",
    "print(f\"p-wartość = {result['p_value']:.4f}\")\n",
    "print(\"Odrzucamy H0\" if result[\"reject_H0\"] else \"Brak podstaw do odrzucenia H0\")"
   ],
   "id": "283e9bfc29f7db55",
   "outputs": [
    {
     "ename": "AttributeError",
     "evalue": "'numpy.float64' object has no attribute 'cdf'",
     "output_type": "error",
     "traceback": [
      "\u001B[1;31m---------------------------------------------------------------------------\u001B[0m",
      "\u001B[1;31mAttributeError\u001B[0m                            Traceback (most recent call last)",
      "Cell \u001B[1;32mIn[45], line 24\u001B[0m\n\u001B[0;32m     16\u001B[0m     \u001B[38;5;28;01mreturn\u001B[39;00m {\n\u001B[0;32m     17\u001B[0m         \u001B[38;5;124m'\u001B[39m\u001B[38;5;124mG2\u001B[39m\u001B[38;5;124m'\u001B[39m: G2,\n\u001B[0;32m     18\u001B[0m         \u001B[38;5;124m'\u001B[39m\u001B[38;5;124mp_value\u001B[39m\u001B[38;5;124m'\u001B[39m: p_value,\n\u001B[1;32m   (...)\u001B[0m\n\u001B[0;32m     21\u001B[0m         \u001B[38;5;124m'\u001B[39m\u001B[38;5;124mreject_H0\u001B[39m\u001B[38;5;124m'\u001B[39m: G2 \u001B[38;5;241m>\u001B[39m critical_value\n\u001B[0;32m     22\u001B[0m     }\n\u001B[0;32m     23\u001B[0m contingency \u001B[38;5;241m=\u001B[39m pd\u001B[38;5;241m.\u001B[39mcrosstab(ankieta[\u001B[38;5;124m\"\u001B[39m\u001B[38;5;124mCZY_KIER\u001B[39m\u001B[38;5;124m\"\u001B[39m], ankieta[\u001B[38;5;124m\"\u001B[39m\u001B[38;5;124mPYT_2\u001B[39m\u001B[38;5;124m\"\u001B[39m])\n\u001B[1;32m---> 24\u001B[0m result \u001B[38;5;241m=\u001B[39m likelihood_ratio_test(contingency, alpha\u001B[38;5;241m=\u001B[39m\u001B[38;5;241m0.01\u001B[39m)\n\u001B[0;32m     25\u001B[0m \u001B[38;5;28mprint\u001B[39m(\u001B[38;5;124mf\u001B[39m\u001B[38;5;124m\"\u001B[39m\u001B[38;5;124mG² = \u001B[39m\u001B[38;5;132;01m{\u001B[39;00mresult[\u001B[38;5;124m'\u001B[39m\u001B[38;5;124mG2\u001B[39m\u001B[38;5;124m'\u001B[39m]\u001B[38;5;132;01m:\u001B[39;00m\u001B[38;5;124m.4f\u001B[39m\u001B[38;5;132;01m}\u001B[39;00m\u001B[38;5;124m, stopnie swobody = \u001B[39m\u001B[38;5;132;01m{\u001B[39;00mresult[\u001B[38;5;124m'\u001B[39m\u001B[38;5;124mankieta\u001B[39m\u001B[38;5;124m'\u001B[39m]\u001B[38;5;132;01m}\u001B[39;00m\u001B[38;5;124m\"\u001B[39m)\n\u001B[0;32m     26\u001B[0m \u001B[38;5;28mprint\u001B[39m(\u001B[38;5;124mf\u001B[39m\u001B[38;5;124m\"\u001B[39m\u001B[38;5;124mp-wartość = \u001B[39m\u001B[38;5;132;01m{\u001B[39;00mresult[\u001B[38;5;124m'\u001B[39m\u001B[38;5;124mp_value\u001B[39m\u001B[38;5;124m'\u001B[39m]\u001B[38;5;132;01m:\u001B[39;00m\u001B[38;5;124m.4f\u001B[39m\u001B[38;5;132;01m}\u001B[39;00m\u001B[38;5;124m\"\u001B[39m)\n",
      "Cell \u001B[1;32mIn[45], line 13\u001B[0m, in \u001B[0;36mlikelihood_ratio_test\u001B[1;34m(table, alpha)\u001B[0m\n\u001B[0;32m     10\u001B[0m G2 \u001B[38;5;241m=\u001B[39m \u001B[38;5;241m2\u001B[39m \u001B[38;5;241m*\u001B[39m np\u001B[38;5;241m.\u001B[39msum(observed[mask] \u001B[38;5;241m*\u001B[39m np\u001B[38;5;241m.\u001B[39mlog(observed[mask] \u001B[38;5;241m/\u001B[39m expected[mask]))\n\u001B[0;32m     12\u001B[0m df \u001B[38;5;241m=\u001B[39m (observed\u001B[38;5;241m.\u001B[39mshape[\u001B[38;5;241m0\u001B[39m] \u001B[38;5;241m-\u001B[39m \u001B[38;5;241m1\u001B[39m) \u001B[38;5;241m*\u001B[39m (observed\u001B[38;5;241m.\u001B[39mshape[\u001B[38;5;241m1\u001B[39m] \u001B[38;5;241m-\u001B[39m \u001B[38;5;241m1\u001B[39m)\n\u001B[1;32m---> 13\u001B[0m p_value \u001B[38;5;241m=\u001B[39m \u001B[38;5;241m1\u001B[39m \u001B[38;5;241m-\u001B[39m chi2\u001B[38;5;241m.\u001B[39mcdf(G2, df)\n\u001B[0;32m     14\u001B[0m critical_value \u001B[38;5;241m=\u001B[39m chi2\u001B[38;5;241m.\u001B[39mppf(\u001B[38;5;241m1\u001B[39m \u001B[38;5;241m-\u001B[39m alpha, df)\n\u001B[0;32m     16\u001B[0m \u001B[38;5;28;01mreturn\u001B[39;00m {\n\u001B[0;32m     17\u001B[0m     \u001B[38;5;124m'\u001B[39m\u001B[38;5;124mG2\u001B[39m\u001B[38;5;124m'\u001B[39m: G2,\n\u001B[0;32m     18\u001B[0m     \u001B[38;5;124m'\u001B[39m\u001B[38;5;124mp_value\u001B[39m\u001B[38;5;124m'\u001B[39m: p_value,\n\u001B[1;32m   (...)\u001B[0m\n\u001B[0;32m     21\u001B[0m     \u001B[38;5;124m'\u001B[39m\u001B[38;5;124mreject_H0\u001B[39m\u001B[38;5;124m'\u001B[39m: G2 \u001B[38;5;241m>\u001B[39m critical_value\n\u001B[0;32m     22\u001B[0m }\n",
      "\u001B[1;31mAttributeError\u001B[0m: 'numpy.float64' object has no attribute 'cdf'"
     ]
    }
   ],
   "execution_count": 45
  },
  {
   "metadata": {},
   "cell_type": "code",
   "outputs": [],
   "execution_count": null,
   "source": "",
   "id": "433caa706c0430ee"
  }
 ],
 "metadata": {
  "kernelspec": {
   "display_name": "Python 3",
   "language": "python",
   "name": "python3"
  },
  "language_info": {
   "codemirror_mode": {
    "name": "ipython",
    "version": 2
   },
   "file_extension": ".py",
   "mimetype": "text/x-python",
   "name": "python",
   "nbconvert_exporter": "python",
   "pygments_lexer": "ipython2",
   "version": "2.7.6"
  }
 },
 "nbformat": 4,
 "nbformat_minor": 5
}
